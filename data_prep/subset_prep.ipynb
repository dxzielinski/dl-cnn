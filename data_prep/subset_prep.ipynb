{
 "cells": [
  {
   "cell_type": "code",
   "execution_count": 1,
   "metadata": {},
   "outputs": [],
   "source": [
    "import os\n",
    "import random"
   ]
  },
  {
   "cell_type": "code",
   "execution_count": null,
   "metadata": {},
   "outputs": [
    {
     "name": "stdout",
     "output_type": "stream",
     "text": [
      "Length of train, valid, test folders:\n",
      "airplane: 1000\n",
      "automobile: 1000\n",
      "bird: 1000\n",
      "cat: 1000\n",
      "deer: 1000\n",
      "dog: 1000\n",
      "frog: 1000\n",
      "horse: 1000\n",
      "ship: 1000\n",
      "truck: 1000\n",
      "airplane: 1000\n",
      "automobile: 1000\n",
      "bird: 1000\n",
      "cat: 1000\n",
      "deer: 1000\n",
      "dog: 1000\n",
      "frog: 1000\n",
      "horse: 1000\n",
      "ship: 1000\n",
      "truck: 1000\n",
      "airplane: 9000\n",
      "automobile: 9000\n",
      "bird: 9000\n",
      "cat: 9000\n",
      "deer: 9000\n",
      "dog: 9000\n",
      "frog: 9000\n",
      "horse: 9000\n",
      "ship: 9000\n",
      "truck: 9000\n"
     ]
    }
   ],
   "source": [
    "old_path = \"../data\"\n",
    "new_path = \"../data_subset\"\n",
    "\n",
    "os.makedirs(f'{new_path}', exist_ok=True)\n",
    "os.makedirs(f'{new_path}/train', exist_ok=True)\n",
    "os.makedirs(f'{new_path}/valid', exist_ok=True)\n",
    "os.makedirs(f'{new_path}/test', exist_ok=True)\n",
    "# take 1/9 of the data for each subfolder in train, val\n",
    "\n",
    "for folder in os.listdir(f'{old_path}/train'):\n",
    "    os.makedirs(f'{new_path}/train/{folder}', exist_ok=True)\n",
    "    os.makedirs(f'{new_path}/valid/{folder}', exist_ok=True)\n",
    "    os.makedirs(f'{new_path}/test/{folder}', exist_ok=True)\n",
    "\n",
    "for folder in os.listdir(f'{old_path}/train'):\n",
    "    files = os.listdir(f'{old_path}/train/{folder}')\n",
    "    random.shuffle(files)\n",
    "    num_files = len(files) // 9\n",
    "    for i in range(num_files):\n",
    "        os.rename(f'{old_path}/train/{folder}/{files[i]}', f'{new_path}/train/{folder}/{files[i]}')\n",
    "        \n",
    "for folder in os.listdir(f'{old_path}/valid'):\n",
    "    files = os.listdir(f'{old_path}/valid/{folder}')\n",
    "    random.shuffle(files)\n",
    "    num_files = len(files) // 9\n",
    "    for i in range(num_files):\n",
    "        os.rename(f'{old_path}/valid/{folder}/{files[i]}', f'{new_path}/valid/{folder}/{files[i]}')\n",
    "        \n",
    "# move whole data/test to data_subset/test\n",
    "for folder in os.listdir(f'{old_path}/test'):\n",
    "    files = os.listdir(f'{old_path}/test/{folder}')\n",
    "    for i in range(len(files)):\n",
    "        os.rename(f'{old_path}/test/{folder}/{files[i]}', f'{new_path}/test/{folder}/{files[i]}')\n",
    "\n",
    "print(\"Length of train, valid, test folders:\")\n",
    "# length of all subdirectories in train, valid, test\n",
    "for folder in os.listdir(f'{new_path}/train'):\n",
    "    print(f'{folder}: {len(os.listdir(f\"{new_path}/train/{folder}\"))}')\n",
    "for folder in os.listdir(f'{new_path}/valid'):\n",
    "    print(f'{folder}: {len(os.listdir(f\"{new_path}/valid/{folder}\"))}')\n",
    "for folder in os.listdir(f'{new_path}/test'):\n",
    "    print(f'{folder}: {len(os.listdir(f\"{new_path}/test/{folder}\"))}')\n"
   ]
  },
  {
   "cell_type": "code",
   "execution_count": null,
   "metadata": {},
   "outputs": [],
   "source": []
  }
 ],
 "metadata": {
  "kernelspec": {
   "display_name": ".venv",
   "language": "python",
   "name": "python3"
  },
  "language_info": {
   "codemirror_mode": {
    "name": "ipython",
    "version": 3
   },
   "file_extension": ".py",
   "mimetype": "text/x-python",
   "name": "python",
   "nbconvert_exporter": "python",
   "pygments_lexer": "ipython3",
   "version": "3.12.9"
  }
 },
 "nbformat": 4,
 "nbformat_minor": 2
}
