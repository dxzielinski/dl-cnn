{
 "cells": [
  {
   "cell_type": "markdown",
   "metadata": {},
   "source": [
    "## Data Exploration"
   ]
  },
  {
   "cell_type": "code",
   "execution_count": null,
   "metadata": {},
   "outputs": [],
   "source": [
    "import torch\n",
    "import matplotlib.pyplot as plt\n",
    "\n",
    "from data_utils import ClassificationDataset, no_transforms"
   ]
  },
  {
   "cell_type": "code",
   "execution_count": 20,
   "metadata": {},
   "outputs": [
    {
     "data": {
      "text/plain": [
       "device(type='cuda')"
      ]
     },
     "execution_count": 20,
     "metadata": {},
     "output_type": "execute_result"
    }
   ],
   "source": [
    "torch.device('cuda' if torch.cuda.is_available() else 'cpu')"
   ]
  },
  {
   "cell_type": "code",
   "execution_count": 2,
   "metadata": {},
   "outputs": [
    {
     "name": "stdout",
     "output_type": "stream",
     "text": [
      "['airplane', 'automobile', 'bird', 'cat', 'deer', 'dog', 'frog', 'horse', 'ship', 'truck']\n",
      "Train size: 90000; Proportion: 0.33\n",
      "Val size: 90000; Proportion: 0.33\n",
      "Test size: 90000; Proportion: 0.33\n"
     ]
    }
   ],
   "source": [
    "train = ClassificationDataset('../data/train', transform=no_transforms)\n",
    "val = ClassificationDataset('../data/valid', transform=no_transforms)\n",
    "test = ClassificationDataset('../data/test', transform=no_transforms)\n",
    "print(train.get_classes())\n",
    "total_size = len(train) + len(val) + len(test)\n",
    "print(f\"Train size: {len(train)}; Proportion: {round(len(train)/total_size, 2)}\")\n",
    "print(f\"Val size: {len(val)}; Proportion: {round(len(val)/total_size, 2)}\")\n",
    "print(f\"Test size: {len(test)}; Proportion: {round(len(test)/total_size, 2)}\")\n"
   ]
  },
  {
   "cell_type": "code",
   "execution_count": 3,
   "metadata": {},
   "outputs": [
    {
     "name": "stdout",
     "output_type": "stream",
     "text": [
      "Dimensionality: torch.Size([3, 32, 32])\n"
     ]
    },
    {
     "data": {
      "image/png": "[encoded data removed]",
      "text/plain": [
       "<Figure size 640x480 with 1 Axes>"
      ]
     },
     "metadata": {},
     "output_type": "display_data"
    }
   ],
   "source": [
    "print(f\"Dimensionality: {train[0][0].shape}\")\n",
    "# permute to change the order of the dimensions - imshow() expects the channel dimension to be the last one\n",
    "plt.imshow(train[0][0].permute(1, 2, 0))\n",
    "plt.show()"
   ]
  },
  {
   "cell_type": "code",
   "execution_count": 21,
   "metadata": {},
   "outputs": [
    {
     "name": "stdout",
     "output_type": "stream",
     "text": [
      "Example calculation for the above image: (tensor([0.8507, 0.8881, 0.9097]), tensor([0.1447, 0.1541, 0.1592]))\n",
      "Mean: tensor([0.4789, 0.4723, 0.4305]), Std: tensor([0.2421, 0.2383, 0.2587])\n"
     ]
    }
   ],
   "source": [
    "# calculate mean and std for normalization\n",
    "\n",
    "print(f\"Example calculation for the above image: {train[0][0].mean(dim=(1, 2)), train[0][0].std(dim=(1, 2))}\")\n",
    "\n",
    "# for whole dataset - merge all images into one tensor and calculate mean and std\n",
    "\n",
    "all_images = torch.stack([img for img, _ in train])\n",
    "# 0 - index, 1 - channel, 2 - height, 3 - width\n",
    "# mean and std are calculated over all images, height and width\n",
    "# so result is a tensor of size (channel,), so 3 values in this case \n",
    "train_mean = all_images.mean(dim=(0, 2, 3))\n",
    "train_std = all_images.std(dim=(0, 2, 3))\n",
    "print(f\"Mean: {train_mean}, Std: {train_std}\")"
   ]
  }
 ],
 "metadata": {
  "kernelspec": {
   "display_name": ".venv",
   "language": "python",
   "name": "python3"
  },
  "language_info": {
   "codemirror_mode": {
    "name": "ipython",
    "version": 3
   },
   "file_extension": ".py",
   "mimetype": "text/x-python",
   "name": "python",
   "nbconvert_exporter": "python",
   "pygments_lexer": "ipython3",
   "version": "3.12.9"
  }
 },
 "nbformat": 4,
 "nbformat_minor": 2
}
