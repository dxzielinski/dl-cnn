{
 "cells": [
  {
   "cell_type": "code",
   "execution_count": 1,
   "metadata": {},
   "outputs": [
    {
     "name": "stderr",
     "output_type": "stream",
     "text": [
      "Seed set to 111\n"
     ]
    },
    {
     "data": {
      "text/plain": [
       "111"
      ]
     },
     "execution_count": 1,
     "metadata": {},
     "output_type": "execute_result"
    }
   ],
   "source": [
    "import torch\n",
    "import sys\n",
    "import os\n",
    "import lightning as L\n",
    "from lightning.pytorch.callbacks import ModelCheckpoint, EarlyStopping\n",
    "from lightning.pytorch.loggers import MLFlowLogger\n",
    "\n",
    "project_root = os.path.abspath(os.path.join(os.getcwd(), \"..\"))\n",
    "\n",
    "\n",
    "if project_root not in sys.path:\n",
    "    sys.path.append(project_root)\n",
    "    \n",
    "from model_utils import PretrainedVisionTransformer, ClassificationData, vit_transforms, vit_no_augmentation\n",
    "\n",
    "torch.cuda.empty_cache()\n",
    "torch.set_float32_matmul_precision(\"medium\")\n",
    "L.seed_everything(111)"
   ]
  },
  {
   "cell_type": "code",
   "execution_count": 2,
   "metadata": {},
   "outputs": [
    {
     "name": "stderr",
     "output_type": "stream",
     "text": [
      "Using 16bit Automatic Mixed Precision (AMP)\n",
      "GPU available: True (cuda), used: True\n",
      "TPU available: False, using: 0 TPU cores\n",
      "HPU available: False, using: 0 HPUs\n",
      "LOCAL_RANK: 0 - CUDA_VISIBLE_DEVICES: [0]\n",
      "\n",
      "  | Name          | Type              | Params | Mode \n",
      "------------------------------------------------------------\n",
      "0 | model         | VisionTransformer | 86.1 M | train\n",
      "1 | loss_fn       | CrossEntropyLoss  | 0      | train\n",
      "2 | train_metrics | MetricCollection  | 0      | train\n",
      "3 | val_metrics   | MetricCollection  | 0      | train\n",
      "4 | test_metrics  | MetricCollection  | 0      | train\n",
      "------------------------------------------------------------\n",
      "86.1 M    Trainable params\n",
      "0         Non-trainable params\n",
      "86.1 M    Total params\n",
      "344.393   Total estimated model params size (MB)\n",
      "168       Modules in train mode\n",
      "0         Modules in eval mode\n"
     ]
    },
    {
     "name": "stdout",
     "output_type": "stream",
     "text": [
      "Epoch 0: 100%|██████████| 5625/5625 [41:32<00:00,  2.26it/s, v_num=5209]"
     ]
    },
    {
     "name": "stderr",
     "output_type": "stream",
     "text": [
      "Metric train_loss improved. New best score: 2.032\n"
     ]
    },
    {
     "name": "stdout",
     "output_type": "stream",
     "text": [
      "Epoch 1: 100%|██████████| 5625/5625 [41:14<00:00,  2.27it/s, v_num=5209]"
     ]
    },
    {
     "name": "stderr",
     "output_type": "stream",
     "text": [
      "Metric train_loss improved by 0.151 >= min_delta = 0.01. New best score: 1.880\n"
     ]
    },
    {
     "name": "stdout",
     "output_type": "stream",
     "text": [
      "Epoch 2: 100%|██████████| 5625/5625 [40:42<00:00,  2.30it/s, v_num=5209]"
     ]
    },
    {
     "name": "stderr",
     "output_type": "stream",
     "text": [
      "Metric train_loss improved by 0.082 >= min_delta = 0.01. New best score: 1.798\n"
     ]
    },
    {
     "name": "stdout",
     "output_type": "stream",
     "text": [
      "Epoch 3: 100%|██████████| 5625/5625 [41:05<00:00,  2.28it/s, v_num=5209]"
     ]
    },
    {
     "name": "stderr",
     "output_type": "stream",
     "text": [
      "Metric train_loss improved by 0.089 >= min_delta = 0.01. New best score: 1.709\n"
     ]
    },
    {
     "name": "stdout",
     "output_type": "stream",
     "text": [
      "Epoch 4: 100%|██████████| 5625/5625 [41:14<00:00,  2.27it/s, v_num=5209]"
     ]
    },
    {
     "name": "stderr",
     "output_type": "stream",
     "text": [
      "Metric train_loss improved by 0.082 >= min_delta = 0.01. New best score: 1.628\n",
      "`Trainer.fit` stopped: `max_epochs=5` reached.\n"
     ]
    },
    {
     "name": "stdout",
     "output_type": "stream",
     "text": [
      "Epoch 4: 100%|██████████| 5625/5625 [41:18<00:00,  2.27it/s, v_num=5209]\n"
     ]
    },
    {
     "name": "stderr",
     "output_type": "stream",
     "text": [
      "LOCAL_RANK: 0 - CUDA_VISIBLE_DEVICES: [0]\n",
      "c:\\Users\\SPCX\\Desktop\\github-repositories\\dl-cnn\\.venv\\Lib\\site-packages\\lightning\\pytorch\\trainer\\connectors\\data_connector.py:420: Consider setting `persistent_workers=True` in 'test_dataloader' to speed up the dataloader worker initialization.\n"
     ]
    },
    {
     "name": "stdout",
     "output_type": "stream",
     "text": [
      "Testing DataLoader 0: 100%|██████████| 5625/5625 [10:32<00:00,  8.89it/s]\n",
      "────────────────────────────────────────────────────────────────────────────────────────────────────────────────────────\n",
      "       Test metric             DataLoader 0\n",
      "────────────────────────────────────────────────────────────────────────────────────────────────────────────────────────\n",
      "       test_auroc           0.8539234399795532\n",
      "      test_f1_macro         0.40828847885131836\n",
      "     test_precision         0.4262617230415344\n",
      "       test_recall           0.423633337020874\n",
      "────────────────────────────────────────────────────────────────────────────────────────────────────────────────────────\n"
     ]
    },
    {
     "data": {
      "text/plain": [
       "[{'test_auroc': 0.8539234399795532,\n",
       "  'test_f1_macro': 0.40828847885131836,\n",
       "  'test_precision': 0.4262617230415344,\n",
       "  'test_recall': 0.423633337020874}]"
      ]
     },
     "execution_count": 2,
     "metadata": {},
     "output_type": "execute_result"
    }
   ],
   "source": [
    "model = PretrainedVisionTransformer(batch_size=16)\n",
    "data = ClassificationData(batch_size=16, transform=vit_transforms)\n",
    "logger = MLFlowLogger(experiment_name=\"ViT\", save_dir=\"mlruns\")\n",
    "trainer = L.Trainer(max_epochs=5, \n",
    "                    logger=logger, \n",
    "                    callbacks=[ModelCheckpoint(monitor=\"val_f1_macro\", mode=\"max\", dirpath=\"checkpoints/vit\", filename=\"augmentation-{epoch:02d}-{val_f1_macro:.2f}\"), \n",
    "                               EarlyStopping(monitor=\"train_loss\", min_delta=0.01, patience=3, mode=\"min\", verbose=True)], \n",
    "                    precision=\"16-mixed\", \n",
    "                    num_sanity_val_steps=0)\n",
    "trainer.fit(model, datamodule=data)\n",
    "trainer.test(model, datamodule=data)"
   ]
  },
  {
   "cell_type": "markdown",
   "metadata": {},
   "source": [
    "## Conclusion\n",
    "\n",
    "For our hardware, the model is too big, so we need to set really small batch size = 16. Thus, the training time is so long and the results are not good."
   ]
  }
 ],
 "metadata": {
  "kernelspec": {
   "display_name": ".venv",
   "language": "python",
   "name": "python3"
  },
  "language_info": {
   "codemirror_mode": {
    "name": "ipython",
    "version": 3
   },
   "file_extension": ".py",
   "mimetype": "text/x-python",
   "name": "python",
   "nbconvert_exporter": "python",
   "pygments_lexer": "ipython3",
   "version": "3.12.9"
  }
 },
 "nbformat": 4,
 "nbformat_minor": 2
}
