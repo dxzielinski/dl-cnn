{
 "cells": [
  {
   "cell_type": "code",
   "execution_count": 1,
   "metadata": {},
   "outputs": [
    {
     "name": "stderr",
     "output_type": "stream",
     "text": [
      "Seed set to 111\n"
     ]
    },
    {
     "data": {
      "text/plain": [
       "111"
      ]
     },
     "execution_count": 1,
     "metadata": {},
     "output_type": "execute_result"
    }
   ],
   "source": [
    "import torch\n",
    "import sys\n",
    "import os\n",
    "import lightning as L\n",
    "from lightning.pytorch.callbacks import ModelCheckpoint, EarlyStopping\n",
    "from lightning.pytorch.loggers import MLFlowLogger\n",
    "\n",
    "project_root = os.path.abspath(os.path.join(os.getcwd(), \"..\"))\n",
    "\n",
    "\n",
    "if project_root not in sys.path:\n",
    "    sys.path.append(project_root)\n",
    "    \n",
    "from model_utils import ModelKANLinear, ClassificationData, no_augmentation\n",
    "\n",
    "torch.cuda.empty_cache()\n",
    "torch.set_float32_matmul_precision(\"medium\")\n",
    "L.seed_everything(111)"
   ]
  },
  {
   "cell_type": "markdown",
   "metadata": {},
   "source": [
    "### Data Augmentation"
   ]
  },
  {
   "cell_type": "code",
   "execution_count": 2,
   "metadata": {},
   "outputs": [
    {
     "name": "stderr",
     "output_type": "stream",
     "text": [
      "Using 16bit Automatic Mixed Precision (AMP)\n",
      "GPU available: True (cuda), used: True\n",
      "TPU available: False, using: 0 TPU cores\n",
      "HPU available: False, using: 0 HPUs\n",
      "LOCAL_RANK: 0 - CUDA_VISIBLE_DEVICES: [0]\n"
     ]
    },
    {
     "name": "stdout",
     "output_type": "stream",
     "text": [
      "Epoch 0: 100%|██████████| 176/176 [00:33<00:00,  5.22it/s, v_num=dcea]"
     ]
    },
    {
     "name": "stderr",
     "output_type": "stream",
     "text": [
      "Metric train_loss improved. New best score: 1.645\n"
     ]
    },
    {
     "name": "stdout",
     "output_type": "stream",
     "text": [
      "Epoch 1: 100%|██████████| 176/176 [00:17<00:00, 10.19it/s, v_num=dcea]"
     ]
    },
    {
     "name": "stderr",
     "output_type": "stream",
     "text": [
      "Metric train_loss improved by 0.195 >= min_delta = 0.01. New best score: 1.451\n"
     ]
    },
    {
     "name": "stdout",
     "output_type": "stream",
     "text": [
      "Epoch 2: 100%|██████████| 176/176 [00:16<00:00, 10.68it/s, v_num=dcea]"
     ]
    },
    {
     "name": "stderr",
     "output_type": "stream",
     "text": [
      "Metric train_loss improved by 0.064 >= min_delta = 0.01. New best score: 1.386\n"
     ]
    },
    {
     "name": "stdout",
     "output_type": "stream",
     "text": [
      "Epoch 3: 100%|██████████| 176/176 [00:16<00:00, 10.71it/s, v_num=dcea]"
     ]
    },
    {
     "name": "stderr",
     "output_type": "stream",
     "text": [
      "Metric train_loss improved by 0.036 >= min_delta = 0.01. New best score: 1.351\n"
     ]
    },
    {
     "name": "stdout",
     "output_type": "stream",
     "text": [
      "Epoch 4: 100%|██████████| 176/176 [00:16<00:00, 10.71it/s, v_num=dcea]"
     ]
    },
    {
     "name": "stderr",
     "output_type": "stream",
     "text": [
      "Metric train_loss improved by 0.037 >= min_delta = 0.01. New best score: 1.314\n"
     ]
    },
    {
     "name": "stdout",
     "output_type": "stream",
     "text": [
      "Epoch 5: 100%|██████████| 176/176 [00:16<00:00, 10.58it/s, v_num=dcea]"
     ]
    },
    {
     "name": "stderr",
     "output_type": "stream",
     "text": [
      "Metric train_loss improved by 0.014 >= min_delta = 0.01. New best score: 1.300\n"
     ]
    },
    {
     "name": "stdout",
     "output_type": "stream",
     "text": [
      "Epoch 6: 100%|██████████| 176/176 [00:16<00:00, 10.75it/s, v_num=dcea]"
     ]
    },
    {
     "name": "stderr",
     "output_type": "stream",
     "text": [
      "Metric train_loss improved by 0.019 >= min_delta = 0.01. New best score: 1.281\n"
     ]
    },
    {
     "name": "stdout",
     "output_type": "stream",
     "text": [
      "Epoch 7: 100%|██████████| 176/176 [00:16<00:00, 10.69it/s, v_num=dcea]"
     ]
    },
    {
     "name": "stderr",
     "output_type": "stream",
     "text": [
      "Metric train_loss improved by 0.013 >= min_delta = 0.01. New best score: 1.267\n"
     ]
    },
    {
     "name": "stdout",
     "output_type": "stream",
     "text": [
      "Epoch 8: 100%|██████████| 176/176 [00:16<00:00, 10.57it/s, v_num=dcea]"
     ]
    },
    {
     "name": "stderr",
     "output_type": "stream",
     "text": [
      "Metric train_loss improved by 0.014 >= min_delta = 0.01. New best score: 1.253\n"
     ]
    },
    {
     "name": "stdout",
     "output_type": "stream",
     "text": [
      "Epoch 10: 100%|██████████| 176/176 [00:16<00:00, 10.67it/s, v_num=dcea]"
     ]
    },
    {
     "name": "stderr",
     "output_type": "stream",
     "text": [
      "Metric train_loss improved by 0.019 >= min_delta = 0.01. New best score: 1.234\n"
     ]
    },
    {
     "name": "stdout",
     "output_type": "stream",
     "text": [
      "Epoch 12: 100%|██████████| 176/176 [00:16<00:00, 10.60it/s, v_num=dcea]"
     ]
    },
    {
     "name": "stderr",
     "output_type": "stream",
     "text": [
      "Metric train_loss improved by 0.017 >= min_delta = 0.01. New best score: 1.218\n"
     ]
    },
    {
     "name": "stdout",
     "output_type": "stream",
     "text": [
      "Epoch 15: 100%|██████████| 176/176 [00:16<00:00, 10.69it/s, v_num=dcea]"
     ]
    },
    {
     "name": "stderr",
     "output_type": "stream",
     "text": [
      "Metric train_loss improved by 0.011 >= min_delta = 0.01. New best score: 1.207\n"
     ]
    },
    {
     "name": "stdout",
     "output_type": "stream",
     "text": [
      "Epoch 18: 100%|██████████| 176/176 [00:16<00:00, 10.82it/s, v_num=dcea]"
     ]
    },
    {
     "name": "stderr",
     "output_type": "stream",
     "text": [
      "Metric train_loss improved by 0.015 >= min_delta = 0.01. New best score: 1.192\n"
     ]
    },
    {
     "name": "stdout",
     "output_type": "stream",
     "text": [
      "Epoch 19: 100%|██████████| 176/176 [00:16<00:00, 10.56it/s, v_num=dcea]"
     ]
    },
    {
     "name": "stderr",
     "output_type": "stream",
     "text": [
      "`Trainer.fit` stopped: `max_epochs=20` reached.\n"
     ]
    },
    {
     "name": "stdout",
     "output_type": "stream",
     "text": [
      "Epoch 19: 100%|██████████| 176/176 [00:16<00:00, 10.52it/s, v_num=dcea]\n"
     ]
    },
    {
     "name": "stderr",
     "output_type": "stream",
     "text": [
      "LOCAL_RANK: 0 - CUDA_VISIBLE_DEVICES: [0]\n",
      "c:\\Users\\SPCX\\Desktop\\github-repositories\\dl-cnn\\.venv\\Lib\\site-packages\\lightning\\pytorch\\trainer\\connectors\\data_connector.py:420: Consider setting `persistent_workers=True` in 'test_dataloader' to speed up the dataloader worker initialization.\n"
     ]
    },
    {
     "name": "stdout",
     "output_type": "stream",
     "text": [
      "Testing DataLoader 0: 100%|██████████| 176/176 [00:07<00:00, 22.75it/s]\n",
      "────────────────────────────────────────────────────────────────────────────────────────────────────────────────────────\n",
      "       Test metric             DataLoader 0\n",
      "────────────────────────────────────────────────────────────────────────────────────────────────────────────────────────\n",
      "       test_auroc           0.9162010550498962\n",
      "      test_f1_macro          0.567167341709137\n",
      "     test_precision         0.5699481964111328\n",
      "       test_recall          0.5689666867256165\n",
      "────────────────────────────────────────────────────────────────────────────────────────────────────────────────────────\n"
     ]
    },
    {
     "data": {
      "text/plain": [
       "[{'test_auroc': 0.9162010550498962,\n",
       "  'test_f1_macro': 0.567167341709137,\n",
       "  'test_precision': 0.5699481964111328,\n",
       "  'test_recall': 0.5689666867256165}]"
      ]
     },
     "execution_count": 2,
     "metadata": {},
     "output_type": "execute_result"
    }
   ],
   "source": [
    "example_hyperparams = {\n",
    "    \"learning_rate\": 0.1,\n",
    "    \"batch_size\": 512,\n",
    "    \"weight_decay\": 0.001,\n",
    "    \"dropout\": 0.2,\n",
    "}\n",
    "model = ModelKANLinear(batch_size=example_hyperparams[\"batch_size\"], learning_rate=example_hyperparams[\"learning_rate\"], weight_decay=example_hyperparams[\"weight_decay\"], dropout=example_hyperparams[\"dropout\"])\n",
    "logger = MLFlowLogger(save_dir=\"mlruns\", experiment_name=\"KAN-Linear\")\n",
    "early_stop = EarlyStopping(monitor=\"train_loss\", patience=3, mode=\"min\", verbose=True, min_delta=0.01)\n",
    "checkpoint_callback = ModelCheckpoint(monitor=\"val_f1_macro\", mode=\"max\", dirpath=\"checkpoints/kan-linear\", filename=f\"lr={model.hyperparameters[\"learning_rate\"]}_bs={model.hyperparameters[\"batch_size\"]}_wd={model.hyperparameters[\"weight_decay\"]}_dropout={model.hyperparameters[\"dropout\"]}\" + \"-{epoch:02d}-{val_f1_macro:.2f}\")\n",
    "trainer = L.Trainer(max_epochs=20, logger=logger, num_sanity_val_steps=0, enable_model_summary=False, deterministic=False, callbacks=[early_stop, checkpoint_callback], precision=\"16-mixed\")\n",
    "data = ClassificationData(batch_size=model.hyperparameters[\"batch_size\"])\n",
    "trainer.fit(model, datamodule=data)\n",
    "trainer.test(model, datamodule=data)"
   ]
  },
  {
   "cell_type": "markdown",
   "metadata": {},
   "source": [
    "### No Data Augmentation"
   ]
  },
  {
   "cell_type": "code",
   "execution_count": 4,
   "metadata": {},
   "outputs": [
    {
     "name": "stderr",
     "output_type": "stream",
     "text": [
      "Using 16bit Automatic Mixed Precision (AMP)\n",
      "GPU available: True (cuda), used: True\n",
      "TPU available: False, using: 0 TPU cores\n",
      "HPU available: False, using: 0 HPUs\n",
      "LOCAL_RANK: 0 - CUDA_VISIBLE_DEVICES: [0]\n"
     ]
    },
    {
     "name": "stdout",
     "output_type": "stream",
     "text": [
      "Epoch 0: 100%|██████████| 176/176 [00:28<00:00,  6.12it/s, v_num=138b]"
     ]
    },
    {
     "name": "stderr",
     "output_type": "stream",
     "text": [
      "Metric train_loss improved. New best score: 1.427\n"
     ]
    },
    {
     "name": "stdout",
     "output_type": "stream",
     "text": [
      "Epoch 1: 100%|██████████| 176/176 [00:13<00:00, 13.47it/s, v_num=138b]"
     ]
    },
    {
     "name": "stderr",
     "output_type": "stream",
     "text": [
      "Metric train_loss improved by 0.256 >= min_delta = 0.01. New best score: 1.171\n"
     ]
    },
    {
     "name": "stdout",
     "output_type": "stream",
     "text": [
      "Epoch 2: 100%|██████████| 176/176 [00:12<00:00, 14.59it/s, v_num=138b]"
     ]
    },
    {
     "name": "stderr",
     "output_type": "stream",
     "text": [
      "Metric train_loss improved by 0.118 >= min_delta = 0.01. New best score: 1.053\n"
     ]
    },
    {
     "name": "stdout",
     "output_type": "stream",
     "text": [
      "Epoch 3: 100%|██████████| 176/176 [00:12<00:00, 13.74it/s, v_num=138b]"
     ]
    },
    {
     "name": "stderr",
     "output_type": "stream",
     "text": [
      "Metric train_loss improved by 0.091 >= min_delta = 0.01. New best score: 0.961\n"
     ]
    },
    {
     "name": "stdout",
     "output_type": "stream",
     "text": [
      "Epoch 4: 100%|██████████| 176/176 [00:12<00:00, 14.03it/s, v_num=138b]"
     ]
    },
    {
     "name": "stderr",
     "output_type": "stream",
     "text": [
      "Metric train_loss improved by 0.085 >= min_delta = 0.01. New best score: 0.876\n"
     ]
    },
    {
     "name": "stdout",
     "output_type": "stream",
     "text": [
      "Epoch 5: 100%|██████████| 176/176 [00:12<00:00, 14.01it/s, v_num=138b]"
     ]
    },
    {
     "name": "stderr",
     "output_type": "stream",
     "text": [
      "Metric train_loss improved by 0.069 >= min_delta = 0.01. New best score: 0.807\n"
     ]
    },
    {
     "name": "stdout",
     "output_type": "stream",
     "text": [
      "Epoch 6: 100%|██████████| 176/176 [00:12<00:00, 14.24it/s, v_num=138b]"
     ]
    },
    {
     "name": "stderr",
     "output_type": "stream",
     "text": [
      "Metric train_loss improved by 0.070 >= min_delta = 0.01. New best score: 0.737\n"
     ]
    },
    {
     "name": "stdout",
     "output_type": "stream",
     "text": [
      "Epoch 7: 100%|██████████| 176/176 [00:12<00:00, 14.09it/s, v_num=138b]"
     ]
    },
    {
     "name": "stderr",
     "output_type": "stream",
     "text": [
      "Metric train_loss improved by 0.063 >= min_delta = 0.01. New best score: 0.674\n"
     ]
    },
    {
     "name": "stdout",
     "output_type": "stream",
     "text": [
      "Epoch 8: 100%|██████████| 176/176 [00:12<00:00, 14.21it/s, v_num=138b]"
     ]
    },
    {
     "name": "stderr",
     "output_type": "stream",
     "text": [
      "Metric train_loss improved by 0.052 >= min_delta = 0.01. New best score: 0.622\n"
     ]
    },
    {
     "name": "stdout",
     "output_type": "stream",
     "text": [
      "Epoch 9: 100%|██████████| 176/176 [00:12<00:00, 14.15it/s, v_num=138b]"
     ]
    },
    {
     "name": "stderr",
     "output_type": "stream",
     "text": [
      "Metric train_loss improved by 0.054 >= min_delta = 0.01. New best score: 0.568\n"
     ]
    },
    {
     "name": "stdout",
     "output_type": "stream",
     "text": [
      "Epoch 10: 100%|██████████| 176/176 [00:12<00:00, 13.75it/s, v_num=138b]"
     ]
    },
    {
     "name": "stderr",
     "output_type": "stream",
     "text": [
      "Metric train_loss improved by 0.047 >= min_delta = 0.01. New best score: 0.521\n"
     ]
    },
    {
     "name": "stdout",
     "output_type": "stream",
     "text": [
      "Epoch 11: 100%|██████████| 176/176 [00:12<00:00, 14.14it/s, v_num=138b]"
     ]
    },
    {
     "name": "stderr",
     "output_type": "stream",
     "text": [
      "Metric train_loss improved by 0.028 >= min_delta = 0.01. New best score: 0.493\n"
     ]
    },
    {
     "name": "stdout",
     "output_type": "stream",
     "text": [
      "Epoch 12: 100%|██████████| 176/176 [00:12<00:00, 14.10it/s, v_num=138b]"
     ]
    },
    {
     "name": "stderr",
     "output_type": "stream",
     "text": [
      "Metric train_loss improved by 0.038 >= min_delta = 0.01. New best score: 0.455\n"
     ]
    },
    {
     "name": "stdout",
     "output_type": "stream",
     "text": [
      "Epoch 13: 100%|██████████| 176/176 [00:12<00:00, 14.15it/s, v_num=138b]"
     ]
    },
    {
     "name": "stderr",
     "output_type": "stream",
     "text": [
      "Metric train_loss improved by 0.016 >= min_delta = 0.01. New best score: 0.439\n"
     ]
    },
    {
     "name": "stdout",
     "output_type": "stream",
     "text": [
      "Epoch 14: 100%|██████████| 176/176 [00:12<00:00, 14.19it/s, v_num=138b]"
     ]
    },
    {
     "name": "stderr",
     "output_type": "stream",
     "text": [
      "Metric train_loss improved by 0.028 >= min_delta = 0.01. New best score: 0.412\n"
     ]
    },
    {
     "name": "stdout",
     "output_type": "stream",
     "text": [
      "Epoch 15: 100%|██████████| 176/176 [00:12<00:00, 14.08it/s, v_num=138b]"
     ]
    },
    {
     "name": "stderr",
     "output_type": "stream",
     "text": [
      "Metric train_loss improved by 0.024 >= min_delta = 0.01. New best score: 0.387\n"
     ]
    },
    {
     "name": "stdout",
     "output_type": "stream",
     "text": [
      "Epoch 16: 100%|██████████| 176/176 [00:12<00:00, 13.85it/s, v_num=138b]"
     ]
    },
    {
     "name": "stderr",
     "output_type": "stream",
     "text": [
      "Metric train_loss improved by 0.020 >= min_delta = 0.01. New best score: 0.367\n"
     ]
    },
    {
     "name": "stdout",
     "output_type": "stream",
     "text": [
      "Epoch 18: 100%|██████████| 176/176 [00:12<00:00, 14.28it/s, v_num=138b]"
     ]
    },
    {
     "name": "stderr",
     "output_type": "stream",
     "text": [
      "Metric train_loss improved by 0.016 >= min_delta = 0.01. New best score: 0.352\n"
     ]
    },
    {
     "name": "stdout",
     "output_type": "stream",
     "text": [
      "Epoch 19: 100%|██████████| 176/176 [00:12<00:00, 14.12it/s, v_num=138b]"
     ]
    },
    {
     "name": "stderr",
     "output_type": "stream",
     "text": [
      "Metric train_loss improved by 0.016 >= min_delta = 0.01. New best score: 0.336\n",
      "`Trainer.fit` stopped: `max_epochs=20` reached.\n"
     ]
    },
    {
     "name": "stdout",
     "output_type": "stream",
     "text": [
      "Epoch 19: 100%|██████████| 176/176 [00:12<00:00, 14.10it/s, v_num=138b]\n"
     ]
    },
    {
     "name": "stderr",
     "output_type": "stream",
     "text": [
      "LOCAL_RANK: 0 - CUDA_VISIBLE_DEVICES: [0]\n"
     ]
    },
    {
     "name": "stdout",
     "output_type": "stream",
     "text": [
      "Testing DataLoader 0: 100%|██████████| 176/176 [00:03<00:00, 46.82it/s]\n",
      "────────────────────────────────────────────────────────────────────────────────────────────────────────────────────────\n",
      "       Test metric             DataLoader 0\n",
      "────────────────────────────────────────────────────────────────────────────────────────────────────────────────────────\n",
      "       test_auroc            0.909548282623291\n",
      "      test_f1_macro         0.5702996850013733\n",
      "     test_precision         0.5794668197631836\n",
      "       test_recall          0.5667333602905273\n",
      "────────────────────────────────────────────────────────────────────────────────────────────────────────────────────────\n"
     ]
    },
    {
     "data": {
      "text/plain": [
       "[{'test_auroc': 0.909548282623291,\n",
       "  'test_f1_macro': 0.5702996850013733,\n",
       "  'test_precision': 0.5794668197631836,\n",
       "  'test_recall': 0.5667333602905273}]"
      ]
     },
     "execution_count": 4,
     "metadata": {},
     "output_type": "execute_result"
    }
   ],
   "source": [
    "model = ModelKANLinear(batch_size=example_hyperparams[\"batch_size\"], learning_rate=example_hyperparams[\"learning_rate\"], weight_decay=example_hyperparams[\"weight_decay\"], dropout=example_hyperparams[\"dropout\"])\n",
    "logger = MLFlowLogger(save_dir=\"mlruns\", experiment_name=\"KAN-Linear-no-augmentation\")\n",
    "early_stop = EarlyStopping(monitor=\"train_loss\", patience=3, mode=\"min\", verbose=True, min_delta=0.01)\n",
    "checkpoint_callback = ModelCheckpoint(monitor=\"val_f1_macro\", mode=\"max\", dirpath=\"checkpoints/kan-linear\", filename=f\"no-augment_lr={model.hyperparameters[\"learning_rate\"]}_bs={model.hyperparameters[\"batch_size\"]}_wd={model.hyperparameters[\"weight_decay\"]}_dropout={model.hyperparameters[\"dropout\"]}\" + \"-{epoch:02d}-{val_f1_macro:.2f}\")\n",
    "trainer = L.Trainer(max_epochs=20, logger=logger, num_sanity_val_steps=0, enable_model_summary=False, deterministic=False, callbacks=[early_stop, checkpoint_callback], precision=\"16-mixed\")\n",
    "data = ClassificationData(batch_size=model.hyperparameters[\"batch_size\"], transform=no_augmentation)\n",
    "trainer.fit(model, datamodule=data)\n",
    "trainer.test(model, datamodule=data)"
   ]
  },
  {
   "cell_type": "code",
   "execution_count": null,
   "metadata": {},
   "outputs": [],
   "source": []
  }
 ],
 "metadata": {
  "kernelspec": {
   "display_name": ".venv",
   "language": "python",
   "name": "python3"
  },
  "language_info": {
   "codemirror_mode": {
    "name": "ipython",
    "version": 3
   },
   "file_extension": ".py",
   "mimetype": "text/x-python",
   "name": "python",
   "nbconvert_exporter": "python",
   "pygments_lexer": "ipython3",
   "version": "3.12.9"
  }
 },
 "nbformat": 4,
 "nbformat_minor": 2
}
