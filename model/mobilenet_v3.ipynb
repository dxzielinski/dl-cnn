{
 "cells": [
  {
   "cell_type": "code",
   "execution_count": 1,
   "metadata": {},
   "outputs": [
    {
     "name": "stderr",
     "output_type": "stream",
     "text": [
      "Seed set to 111\n"
     ]
    },
    {
     "data": {
      "text/plain": [
       "111"
      ]
     },
     "execution_count": 1,
     "metadata": {},
     "output_type": "execute_result"
    }
   ],
   "source": [
    "import torch\n",
    "import sys\n",
    "import os\n",
    "import lightning as L\n",
    "from lightning.pytorch.callbacks import ModelCheckpoint, EarlyStopping\n",
    "from lightning.pytorch.loggers import MLFlowLogger\n",
    "\n",
    "project_root = os.path.abspath(os.path.join(os.getcwd(), \"..\"))\n",
    "\n",
    "\n",
    "if project_root not in sys.path:\n",
    "    sys.path.append(project_root)\n",
    "    \n",
    "from model_utils import PretrainedModelMobileNet, ClassificationData, no_augmentation\n",
    "\n",
    "torch.cuda.empty_cache()\n",
    "torch.set_float32_matmul_precision(\"medium\")\n",
    "L.seed_everything(111)"
   ]
  },
  {
   "cell_type": "markdown",
   "metadata": {},
   "source": [
    "### With Data Augmentation"
   ]
  },
  {
   "cell_type": "code",
   "execution_count": 2,
   "metadata": {},
   "outputs": [
    {
     "name": "stderr",
     "output_type": "stream",
     "text": [
      "Using 16bit Automatic Mixed Precision (AMP)\n",
      "GPU available: True (cuda), used: True\n",
      "TPU available: False, using: 0 TPU cores\n",
      "HPU available: False, using: 0 HPUs\n",
      "LOCAL_RANK: 0 - CUDA_VISIBLE_DEVICES: [0]\n",
      "\n",
      "  | Name          | Type             | Params | Mode \n",
      "-----------------------------------------------------------\n",
      "0 | model         | MobileNetV3      | 4.2 M  | train\n",
      "1 | loss_fn       | CrossEntropyLoss | 0      | train\n",
      "2 | train_metrics | MetricCollection | 0      | train\n",
      "3 | val_metrics   | MetricCollection | 0      | train\n",
      "4 | test_metrics  | MetricCollection | 0      | train\n",
      "-----------------------------------------------------------\n",
      "4.2 M     Trainable params\n",
      "0         Non-trainable params\n",
      "4.2 M     Total params\n",
      "16.859    Total estimated model params size (MB)\n",
      "271       Modules in train mode\n",
      "0         Modules in eval mode\n"
     ]
    },
    {
     "name": "stdout",
     "output_type": "stream",
     "text": [
      "Epoch 0: 100%|██████████| 1407/1407 [00:59<00:00, 23.55it/s, v_num=b7bf]"
     ]
    },
    {
     "name": "stderr",
     "output_type": "stream",
     "text": [
      "Metric train_loss improved. New best score: 1.502\n"
     ]
    },
    {
     "name": "stdout",
     "output_type": "stream",
     "text": [
      "Epoch 1: 100%|██████████| 1407/1407 [00:39<00:00, 35.65it/s, v_num=b7bf]"
     ]
    },
    {
     "name": "stderr",
     "output_type": "stream",
     "text": [
      "Metric train_loss improved by 0.248 >= min_delta = 0.01. New best score: 1.254\n"
     ]
    },
    {
     "name": "stdout",
     "output_type": "stream",
     "text": [
      "Epoch 2: 100%|██████████| 1407/1407 [00:39<00:00, 35.70it/s, v_num=b7bf]"
     ]
    },
    {
     "name": "stderr",
     "output_type": "stream",
     "text": [
      "Metric train_loss improved by 0.082 >= min_delta = 0.01. New best score: 1.172\n"
     ]
    },
    {
     "name": "stdout",
     "output_type": "stream",
     "text": [
      "Epoch 3: 100%|██████████| 1407/1407 [00:39<00:00, 35.33it/s, v_num=b7bf]"
     ]
    },
    {
     "name": "stderr",
     "output_type": "stream",
     "text": [
      "Metric train_loss improved by 0.020 >= min_delta = 0.01. New best score: 1.152\n"
     ]
    },
    {
     "name": "stdout",
     "output_type": "stream",
     "text": [
      "Epoch 6: 100%|██████████| 1407/1407 [00:38<00:00, 36.26it/s, v_num=b7bf]"
     ]
    },
    {
     "name": "stderr",
     "output_type": "stream",
     "text": [
      "Metric train_loss improved by 0.030 >= min_delta = 0.01. New best score: 1.122\n"
     ]
    },
    {
     "name": "stdout",
     "output_type": "stream",
     "text": [
      "Epoch 7: 100%|██████████| 1407/1407 [00:38<00:00, 36.30it/s, v_num=b7bf]"
     ]
    },
    {
     "name": "stderr",
     "output_type": "stream",
     "text": [
      "Metric train_loss improved by 0.028 >= min_delta = 0.01. New best score: 1.094\n"
     ]
    },
    {
     "name": "stdout",
     "output_type": "stream",
     "text": [
      "Epoch 9: 100%|██████████| 1407/1407 [00:39<00:00, 35.76it/s, v_num=b7bf]"
     ]
    },
    {
     "name": "stderr",
     "output_type": "stream",
     "text": [
      "Metric train_loss improved by 0.036 >= min_delta = 0.01. New best score: 1.058\n"
     ]
    },
    {
     "name": "stdout",
     "output_type": "stream",
     "text": [
      "Epoch 11: 100%|██████████| 1407/1407 [00:39<00:00, 35.90it/s, v_num=b7bf]"
     ]
    },
    {
     "name": "stderr",
     "output_type": "stream",
     "text": [
      "Metric train_loss improved by 0.014 >= min_delta = 0.01. New best score: 1.044\n"
     ]
    },
    {
     "name": "stdout",
     "output_type": "stream",
     "text": [
      "Epoch 14: 100%|██████████| 1407/1407 [00:39<00:00, 36.04it/s, v_num=b7bf]"
     ]
    },
    {
     "name": "stderr",
     "output_type": "stream",
     "text": [
      "Monitored metric train_loss did not improve in the last 3 records. Best score: 1.044. Signaling Trainer to stop.\n"
     ]
    },
    {
     "name": "stdout",
     "output_type": "stream",
     "text": [
      "Epoch 14: 100%|██████████| 1407/1407 [00:39<00:00, 35.89it/s, v_num=b7bf]\n"
     ]
    },
    {
     "name": "stderr",
     "output_type": "stream",
     "text": [
      "LOCAL_RANK: 0 - CUDA_VISIBLE_DEVICES: [0]\n",
      "c:\\Users\\SPCX\\Desktop\\github-repositories\\dl-cnn\\.venv\\Lib\\site-packages\\lightning\\pytorch\\trainer\\connectors\\data_connector.py:420: Consider setting `persistent_workers=True` in 'test_dataloader' to speed up the dataloader worker initialization.\n"
     ]
    },
    {
     "name": "stdout",
     "output_type": "stream",
     "text": [
      "Testing DataLoader 0: 100%|██████████| 1407/1407 [00:10<00:00, 138.78it/s]\n",
      "────────────────────────────────────────────────────────────────────────────────────────────────────────────────────────\n",
      "       Test metric             DataLoader 0\n",
      "────────────────────────────────────────────────────────────────────────────────────────────────────────────────────────\n",
      "       test_auroc           0.9280180335044861\n",
      "      test_f1_macro         0.5942773818969727\n",
      "     test_precision         0.6012427806854248\n",
      "       test_recall          0.6001111268997192\n",
      "────────────────────────────────────────────────────────────────────────────────────────────────────────────────────────\n"
     ]
    },
    {
     "data": {
      "text/plain": [
       "[{'test_auroc': 0.9280180335044861,\n",
       "  'test_f1_macro': 0.5942773818969727,\n",
       "  'test_precision': 0.6012427806854248,\n",
       "  'test_recall': 0.6001111268997192}]"
      ]
     },
     "execution_count": 2,
     "metadata": {},
     "output_type": "execute_result"
    }
   ],
   "source": [
    "model = PretrainedModelMobileNet(batch_size=64)\n",
    "data = ClassificationData(batch_size=64)\n",
    "logger = MLFlowLogger(experiment_name=\"MobileNetV3\", save_dir=\"mlruns\")\n",
    "trainer = L.Trainer(max_epochs=20, \n",
    "                    logger=logger, \n",
    "                    callbacks=[ModelCheckpoint(monitor=\"val_f1_macro\", mode=\"max\", dirpath=\"checkpoints/mobile_net\", filename=\"augmentation-{epoch:02d}-{val_f1_macro:.2f}\"), \n",
    "                               EarlyStopping(monitor=\"train_loss\", min_delta=0.01, patience=3, mode=\"min\", verbose=True)], \n",
    "                    precision=\"16-mixed\", \n",
    "                    num_sanity_val_steps=0)\n",
    "trainer.fit(model, datamodule=data)\n",
    "trainer.test(model, datamodule=data)"
   ]
  },
  {
   "cell_type": "markdown",
   "metadata": {},
   "source": [
    "### No Data Augmentation"
   ]
  },
  {
   "cell_type": "code",
   "execution_count": 2,
   "metadata": {},
   "outputs": [
    {
     "name": "stderr",
     "output_type": "stream",
     "text": [
      "Using 16bit Automatic Mixed Precision (AMP)\n",
      "GPU available: True (cuda), used: True\n",
      "TPU available: False, using: 0 TPU cores\n",
      "HPU available: False, using: 0 HPUs\n",
      "Experiment with name MobileNetV3-no-augmentation not found. Creating it.\n",
      "c:\\Users\\SPCX\\Desktop\\github-repositories\\dl-cnn\\.venv\\Lib\\site-packages\\lightning\\pytorch\\callbacks\\model_checkpoint.py:654: Checkpoint directory C:\\Users\\SPCX\\Desktop\\github-repositories\\dl-cnn\\model\\checkpoints\\mobile_net exists and is not empty.\n",
      "LOCAL_RANK: 0 - CUDA_VISIBLE_DEVICES: [0]\n",
      "\n",
      "  | Name          | Type             | Params | Mode \n",
      "-----------------------------------------------------------\n",
      "0 | model         | MobileNetV3      | 4.2 M  | train\n",
      "1 | loss_fn       | CrossEntropyLoss | 0      | train\n",
      "2 | train_metrics | MetricCollection | 0      | train\n",
      "3 | val_metrics   | MetricCollection | 0      | train\n",
      "4 | test_metrics  | MetricCollection | 0      | train\n",
      "-----------------------------------------------------------\n",
      "4.2 M     Trainable params\n",
      "0         Non-trainable params\n",
      "4.2 M     Total params\n",
      "16.859    Total estimated model params size (MB)\n",
      "271       Modules in train mode\n",
      "0         Modules in eval mode\n"
     ]
    },
    {
     "name": "stdout",
     "output_type": "stream",
     "text": [
      "Epoch 0: 100%|██████████| 1407/1407 [00:54<00:00, 25.83it/s, v_num=d56e]"
     ]
    },
    {
     "name": "stderr",
     "output_type": "stream",
     "text": [
      "Metric train_loss improved. New best score: 1.243\n"
     ]
    },
    {
     "name": "stdout",
     "output_type": "stream",
     "text": [
      "Epoch 1: 100%|██████████| 1407/1407 [00:36<00:00, 38.21it/s, v_num=d56e]"
     ]
    },
    {
     "name": "stderr",
     "output_type": "stream",
     "text": [
      "Metric train_loss improved by 0.262 >= min_delta = 0.01. New best score: 0.981\n"
     ]
    },
    {
     "name": "stdout",
     "output_type": "stream",
     "text": [
      "Epoch 2: 100%|██████████| 1407/1407 [00:37<00:00, 37.62it/s, v_num=d56e]"
     ]
    },
    {
     "name": "stderr",
     "output_type": "stream",
     "text": [
      "Metric train_loss improved by 0.011 >= min_delta = 0.01. New best score: 0.969\n"
     ]
    },
    {
     "name": "stdout",
     "output_type": "stream",
     "text": [
      "Epoch 3: 100%|██████████| 1407/1407 [00:37<00:00, 37.90it/s, v_num=d56e]"
     ]
    },
    {
     "name": "stderr",
     "output_type": "stream",
     "text": [
      "Metric train_loss improved by 0.083 >= min_delta = 0.01. New best score: 0.887\n"
     ]
    },
    {
     "name": "stdout",
     "output_type": "stream",
     "text": [
      "Epoch 6: 100%|██████████| 1407/1407 [00:37<00:00, 37.98it/s, v_num=d56e]"
     ]
    },
    {
     "name": "stderr",
     "output_type": "stream",
     "text": [
      "Metric train_loss improved by 0.101 >= min_delta = 0.01. New best score: 0.786\n"
     ]
    },
    {
     "name": "stdout",
     "output_type": "stream",
     "text": [
      "Epoch 8: 100%|██████████| 1407/1407 [00:37<00:00, 37.28it/s, v_num=d56e]"
     ]
    },
    {
     "name": "stderr",
     "output_type": "stream",
     "text": [
      "Metric train_loss improved by 0.029 >= min_delta = 0.01. New best score: 0.757\n"
     ]
    },
    {
     "name": "stdout",
     "output_type": "stream",
     "text": [
      "Epoch 9: 100%|██████████| 1407/1407 [00:36<00:00, 38.14it/s, v_num=d56e]"
     ]
    },
    {
     "name": "stderr",
     "output_type": "stream",
     "text": [
      "Metric train_loss improved by 0.045 >= min_delta = 0.01. New best score: 0.712\n"
     ]
    },
    {
     "name": "stdout",
     "output_type": "stream",
     "text": [
      "Epoch 12: 100%|██████████| 1407/1407 [00:36<00:00, 38.06it/s, v_num=d56e]"
     ]
    },
    {
     "name": "stderr",
     "output_type": "stream",
     "text": [
      "Metric train_loss improved by 0.011 >= min_delta = 0.01. New best score: 0.700\n"
     ]
    },
    {
     "name": "stdout",
     "output_type": "stream",
     "text": [
      "Epoch 13: 100%|██████████| 1407/1407 [00:37<00:00, 37.56it/s, v_num=d56e]"
     ]
    },
    {
     "name": "stderr",
     "output_type": "stream",
     "text": [
      "Metric train_loss improved by 0.037 >= min_delta = 0.01. New best score: 0.663\n"
     ]
    },
    {
     "name": "stdout",
     "output_type": "stream",
     "text": [
      "Epoch 14: 100%|██████████| 1407/1407 [00:37<00:00, 37.31it/s, v_num=d56e]"
     ]
    },
    {
     "name": "stderr",
     "output_type": "stream",
     "text": [
      "Metric train_loss improved by 0.016 >= min_delta = 0.01. New best score: 0.648\n"
     ]
    },
    {
     "name": "stdout",
     "output_type": "stream",
     "text": [
      "Epoch 15: 100%|██████████| 1407/1407 [00:37<00:00, 37.91it/s, v_num=d56e]"
     ]
    },
    {
     "name": "stderr",
     "output_type": "stream",
     "text": [
      "Metric train_loss improved by 0.023 >= min_delta = 0.01. New best score: 0.625\n"
     ]
    },
    {
     "name": "stdout",
     "output_type": "stream",
     "text": [
      "Epoch 16: 100%|██████████| 1407/1407 [00:36<00:00, 38.18it/s, v_num=d56e]"
     ]
    },
    {
     "name": "stderr",
     "output_type": "stream",
     "text": [
      "Metric train_loss improved by 0.023 >= min_delta = 0.01. New best score: 0.602\n"
     ]
    },
    {
     "name": "stdout",
     "output_type": "stream",
     "text": [
      "Epoch 19: 100%|██████████| 1407/1407 [00:36<00:00, 38.33it/s, v_num=d56e]"
     ]
    },
    {
     "name": "stderr",
     "output_type": "stream",
     "text": [
      "Monitored metric train_loss did not improve in the last 3 records. Best score: 0.602. Signaling Trainer to stop.\n",
      "`Trainer.fit` stopped: `max_epochs=20` reached.\n"
     ]
    },
    {
     "name": "stdout",
     "output_type": "stream",
     "text": [
      "Epoch 19: 100%|██████████| 1407/1407 [00:36<00:00, 38.14it/s, v_num=d56e]\n"
     ]
    },
    {
     "name": "stderr",
     "output_type": "stream",
     "text": [
      "LOCAL_RANK: 0 - CUDA_VISIBLE_DEVICES: [0]\n",
      "c:\\Users\\SPCX\\Desktop\\github-repositories\\dl-cnn\\.venv\\Lib\\site-packages\\lightning\\pytorch\\trainer\\connectors\\data_connector.py:420: Consider setting `persistent_workers=True` in 'test_dataloader' to speed up the dataloader worker initialization.\n"
     ]
    },
    {
     "name": "stdout",
     "output_type": "stream",
     "text": [
      "Testing DataLoader 0: 100%|██████████| 1407/1407 [00:08<00:00, 159.66it/s]\n",
      "────────────────────────────────────────────────────────────────────────────────────────────────────────────────────────\n",
      "       Test metric             DataLoader 0\n",
      "────────────────────────────────────────────────────────────────────────────────────────────────────────────────────────\n",
      "       test_auroc           0.8889406323432922\n",
      "      test_f1_macro         0.5015732049942017\n",
      "     test_precision         0.5226379632949829\n",
      "       test_recall          0.5098222494125366\n",
      "────────────────────────────────────────────────────────────────────────────────────────────────────────────────────────\n"
     ]
    },
    {
     "data": {
      "text/plain": [
       "[{'test_auroc': 0.8889406323432922,\n",
       "  'test_f1_macro': 0.5015732049942017,\n",
       "  'test_precision': 0.5226379632949829,\n",
       "  'test_recall': 0.5098222494125366}]"
      ]
     },
     "execution_count": 2,
     "metadata": {},
     "output_type": "execute_result"
    }
   ],
   "source": [
    "bs = 64\n",
    "model = PretrainedModelMobileNet(batch_size=bs)\n",
    "data = ClassificationData(batch_size=bs, transform=no_augmentation)\n",
    "logger = MLFlowLogger(experiment_name=\"MobileNetV3-no-augmentation\", save_dir=\"mlruns\")\n",
    "trainer = L.Trainer(max_epochs=20, \n",
    "                    logger=logger, \n",
    "                    callbacks=[ModelCheckpoint(monitor=\"val_f1_macro\", mode=\"max\", dirpath=\"checkpoints/mobile_net\", filename=f\"no-augmentation_bs_{bs}\" + \"-{epoch:02d}-{val_f1_macro:.2f}\"), \n",
    "                               EarlyStopping(monitor=\"train_loss\", min_delta=0.01, patience=3, mode=\"min\", verbose=True)], \n",
    "                    precision=\"16-mixed\", \n",
    "                    num_sanity_val_steps=0)\n",
    "trainer.fit(model, datamodule=data)\n",
    "trainer.test(model, datamodule=data)"
   ]
  },
  {
   "cell_type": "markdown",
   "metadata": {},
   "source": [
    "## Check model behaviour on higher batch size and more epochs"
   ]
  },
  {
   "cell_type": "markdown",
   "metadata": {},
   "source": [
    "### With Data Augmentation"
   ]
  },
  {
   "cell_type": "code",
   "execution_count": 3,
   "metadata": {},
   "outputs": [
    {
     "name": "stderr",
     "output_type": "stream",
     "text": [
      "Using 16bit Automatic Mixed Precision (AMP)\n",
      "GPU available: True (cuda), used: True\n",
      "TPU available: False, using: 0 TPU cores\n",
      "HPU available: False, using: 0 HPUs\n",
      "c:\\Users\\SPCX\\Desktop\\github-repositories\\dl-cnn\\.venv\\Lib\\site-packages\\lightning\\pytorch\\callbacks\\model_checkpoint.py:654: Checkpoint directory C:\\Users\\SPCX\\Desktop\\github-repositories\\dl-cnn\\model\\checkpoints\\mobile_net exists and is not empty.\n",
      "LOCAL_RANK: 0 - CUDA_VISIBLE_DEVICES: [0]\n",
      "\n",
      "  | Name          | Type             | Params | Mode \n",
      "-----------------------------------------------------------\n",
      "0 | model         | MobileNetV3      | 4.2 M  | train\n",
      "1 | loss_fn       | CrossEntropyLoss | 0      | train\n",
      "2 | train_metrics | MetricCollection | 0      | train\n",
      "3 | val_metrics   | MetricCollection | 0      | train\n",
      "4 | test_metrics  | MetricCollection | 0      | train\n",
      "-----------------------------------------------------------\n",
      "4.2 M     Trainable params\n",
      "0         Non-trainable params\n",
      "4.2 M     Total params\n",
      "16.859    Total estimated model params size (MB)\n",
      "271       Modules in train mode\n",
      "0         Modules in eval mode\n"
     ]
    },
    {
     "name": "stdout",
     "output_type": "stream",
     "text": [
      "Epoch 0: 100%|██████████| 352/352 [00:32<00:00, 10.80it/s, v_num=164d]"
     ]
    },
    {
     "name": "stderr",
     "output_type": "stream",
     "text": [
      "Metric train_loss improved. New best score: 1.473\n"
     ]
    },
    {
     "name": "stdout",
     "output_type": "stream",
     "text": [
      "Epoch 1: 100%|██████████| 352/352 [00:16<00:00, 21.71it/s, v_num=164d]"
     ]
    },
    {
     "name": "stderr",
     "output_type": "stream",
     "text": [
      "Metric train_loss improved by 0.302 >= min_delta = 0.01. New best score: 1.171\n"
     ]
    },
    {
     "name": "stdout",
     "output_type": "stream",
     "text": [
      "Epoch 2: 100%|██████████| 352/352 [00:16<00:00, 21.83it/s, v_num=164d]"
     ]
    },
    {
     "name": "stderr",
     "output_type": "stream",
     "text": [
      "Metric train_loss improved by 0.068 >= min_delta = 0.01. New best score: 1.103\n"
     ]
    },
    {
     "name": "stdout",
     "output_type": "stream",
     "text": [
      "Epoch 3: 100%|██████████| 352/352 [00:16<00:00, 21.82it/s, v_num=164d]"
     ]
    },
    {
     "name": "stderr",
     "output_type": "stream",
     "text": [
      "Metric train_loss improved by 0.062 >= min_delta = 0.01. New best score: 1.041\n"
     ]
    },
    {
     "name": "stdout",
     "output_type": "stream",
     "text": [
      "Epoch 4: 100%|██████████| 352/352 [00:16<00:00, 21.88it/s, v_num=164d]"
     ]
    },
    {
     "name": "stderr",
     "output_type": "stream",
     "text": [
      "Metric train_loss improved by 0.028 >= min_delta = 0.01. New best score: 1.013\n"
     ]
    },
    {
     "name": "stdout",
     "output_type": "stream",
     "text": [
      "Epoch 5: 100%|██████████| 352/352 [00:16<00:00, 21.84it/s, v_num=164d]"
     ]
    },
    {
     "name": "stderr",
     "output_type": "stream",
     "text": [
      "Metric train_loss improved by 0.032 >= min_delta = 0.01. New best score: 0.981\n"
     ]
    },
    {
     "name": "stdout",
     "output_type": "stream",
     "text": [
      "Epoch 6: 100%|██████████| 352/352 [00:16<00:00, 21.94it/s, v_num=164d]"
     ]
    },
    {
     "name": "stderr",
     "output_type": "stream",
     "text": [
      "Metric train_loss improved by 0.021 >= min_delta = 0.01. New best score: 0.961\n"
     ]
    },
    {
     "name": "stdout",
     "output_type": "stream",
     "text": [
      "Epoch 8: 100%|██████████| 352/352 [00:16<00:00, 21.72it/s, v_num=164d]"
     ]
    },
    {
     "name": "stderr",
     "output_type": "stream",
     "text": [
      "Metric train_loss improved by 0.032 >= min_delta = 0.01. New best score: 0.928\n"
     ]
    },
    {
     "name": "stdout",
     "output_type": "stream",
     "text": [
      "Epoch 9: 100%|██████████| 352/352 [00:16<00:00, 21.54it/s, v_num=164d]"
     ]
    },
    {
     "name": "stderr",
     "output_type": "stream",
     "text": [
      "Metric train_loss improved by 0.026 >= min_delta = 0.01. New best score: 0.903\n"
     ]
    },
    {
     "name": "stdout",
     "output_type": "stream",
     "text": [
      "Epoch 10: 100%|██████████| 352/352 [00:16<00:00, 21.40it/s, v_num=164d]"
     ]
    },
    {
     "name": "stderr",
     "output_type": "stream",
     "text": [
      "Metric train_loss improved by 0.019 >= min_delta = 0.01. New best score: 0.883\n"
     ]
    },
    {
     "name": "stdout",
     "output_type": "stream",
     "text": [
      "Epoch 11: 100%|██████████| 352/352 [00:16<00:00, 21.68it/s, v_num=164d]"
     ]
    },
    {
     "name": "stderr",
     "output_type": "stream",
     "text": [
      "Metric train_loss improved by 0.010 >= min_delta = 0.01. New best score: 0.873\n"
     ]
    },
    {
     "name": "stdout",
     "output_type": "stream",
     "text": [
      "Epoch 13: 100%|██████████| 352/352 [00:16<00:00, 21.97it/s, v_num=164d]"
     ]
    },
    {
     "name": "stderr",
     "output_type": "stream",
     "text": [
      "Metric train_loss improved by 0.025 >= min_delta = 0.01. New best score: 0.848\n"
     ]
    },
    {
     "name": "stdout",
     "output_type": "stream",
     "text": [
      "Epoch 16: 100%|██████████| 352/352 [00:16<00:00, 21.88it/s, v_num=164d]"
     ]
    },
    {
     "name": "stderr",
     "output_type": "stream",
     "text": [
      "Metric train_loss improved by 0.019 >= min_delta = 0.01. New best score: 0.828\n"
     ]
    },
    {
     "name": "stdout",
     "output_type": "stream",
     "text": [
      "Epoch 17: 100%|██████████| 352/352 [00:16<00:00, 21.84it/s, v_num=164d]"
     ]
    },
    {
     "name": "stderr",
     "output_type": "stream",
     "text": [
      "Metric train_loss improved by 0.020 >= min_delta = 0.01. New best score: 0.808\n"
     ]
    },
    {
     "name": "stdout",
     "output_type": "stream",
     "text": [
      "Epoch 19: 100%|██████████| 352/352 [00:16<00:00, 21.92it/s, v_num=164d]"
     ]
    },
    {
     "name": "stderr",
     "output_type": "stream",
     "text": [
      "Metric train_loss improved by 0.013 >= min_delta = 0.01. New best score: 0.795\n"
     ]
    },
    {
     "name": "stdout",
     "output_type": "stream",
     "text": [
      "Epoch 20: 100%|██████████| 352/352 [00:16<00:00, 21.84it/s, v_num=164d]"
     ]
    },
    {
     "name": "stderr",
     "output_type": "stream",
     "text": [
      "Metric train_loss improved by 0.012 >= min_delta = 0.01. New best score: 0.783\n"
     ]
    },
    {
     "name": "stdout",
     "output_type": "stream",
     "text": [
      "Epoch 22: 100%|██████████| 352/352 [00:16<00:00, 21.92it/s, v_num=164d]"
     ]
    },
    {
     "name": "stderr",
     "output_type": "stream",
     "text": [
      "Metric train_loss improved by 0.023 >= min_delta = 0.01. New best score: 0.761\n"
     ]
    },
    {
     "name": "stdout",
     "output_type": "stream",
     "text": [
      "Epoch 24: 100%|██████████| 352/352 [00:16<00:00, 21.81it/s, v_num=164d]"
     ]
    },
    {
     "name": "stderr",
     "output_type": "stream",
     "text": [
      "Metric train_loss improved by 0.014 >= min_delta = 0.01. New best score: 0.746\n"
     ]
    },
    {
     "name": "stdout",
     "output_type": "stream",
     "text": [
      "Epoch 26: 100%|██████████| 352/352 [00:16<00:00, 21.85it/s, v_num=164d]"
     ]
    },
    {
     "name": "stderr",
     "output_type": "stream",
     "text": [
      "Metric train_loss improved by 0.014 >= min_delta = 0.01. New best score: 0.733\n"
     ]
    },
    {
     "name": "stdout",
     "output_type": "stream",
     "text": [
      "Epoch 28: 100%|██████████| 352/352 [00:16<00:00, 21.82it/s, v_num=164d]"
     ]
    },
    {
     "name": "stderr",
     "output_type": "stream",
     "text": [
      "Metric train_loss improved by 0.017 >= min_delta = 0.01. New best score: 0.716\n"
     ]
    },
    {
     "name": "stdout",
     "output_type": "stream",
     "text": [
      "Epoch 31: 100%|██████████| 352/352 [00:16<00:00, 21.93it/s, v_num=164d]"
     ]
    },
    {
     "name": "stderr",
     "output_type": "stream",
     "text": [
      "Metric train_loss improved by 0.019 >= min_delta = 0.01. New best score: 0.696\n"
     ]
    },
    {
     "name": "stdout",
     "output_type": "stream",
     "text": [
      "Epoch 34: 100%|██████████| 352/352 [00:15<00:00, 22.02it/s, v_num=164d]"
     ]
    },
    {
     "name": "stderr",
     "output_type": "stream",
     "text": [
      "Monitored metric train_loss did not improve in the last 3 records. Best score: 0.696. Signaling Trainer to stop.\n"
     ]
    },
    {
     "name": "stdout",
     "output_type": "stream",
     "text": [
      "Epoch 34: 100%|██████████| 352/352 [00:16<00:00, 21.95it/s, v_num=164d]\n"
     ]
    },
    {
     "name": "stderr",
     "output_type": "stream",
     "text": [
      "LOCAL_RANK: 0 - CUDA_VISIBLE_DEVICES: [0]\n",
      "c:\\Users\\SPCX\\Desktop\\github-repositories\\dl-cnn\\.venv\\Lib\\site-packages\\lightning\\pytorch\\trainer\\connectors\\data_connector.py:420: Consider setting `persistent_workers=True` in 'test_dataloader' to speed up the dataloader worker initialization.\n"
     ]
    },
    {
     "name": "stdout",
     "output_type": "stream",
     "text": [
      "Testing DataLoader 0: 100%|██████████| 352/352 [00:07<00:00, 49.24it/s]\n",
      "────────────────────────────────────────────────────────────────────────────────────────────────────────────────────────\n",
      "       Test metric             DataLoader 0\n",
      "────────────────────────────────────────────────────────────────────────────────────────────────────────────────────────\n",
      "       test_auroc           0.9349632263183594\n",
      "      test_f1_macro          0.628425121307373\n",
      "     test_precision         0.6415094137191772\n",
      "       test_recall          0.6286333203315735\n",
      "────────────────────────────────────────────────────────────────────────────────────────────────────────────────────────\n"
     ]
    },
    {
     "data": {
      "text/plain": [
       "[{'test_auroc': 0.9349632263183594,\n",
       "  'test_f1_macro': 0.628425121307373,\n",
       "  'test_precision': 0.6415094137191772,\n",
       "  'test_recall': 0.6286333203315735}]"
      ]
     },
     "execution_count": 3,
     "metadata": {},
     "output_type": "execute_result"
    }
   ],
   "source": [
    "bs = 256\n",
    "model = PretrainedModelMobileNet(batch_size=bs)\n",
    "data = ClassificationData(batch_size=bs)\n",
    "logger = MLFlowLogger(experiment_name=\"MobileNetV3\", save_dir=\"mlruns\")\n",
    "trainer = L.Trainer(max_epochs=50, \n",
    "                    logger=logger, \n",
    "                    callbacks=[ModelCheckpoint(monitor=\"val_f1_macro\", mode=\"max\", dirpath=\"checkpoints/mobile_net\", filename=f\"augmentation_bs_{bs}\" + \"-{epoch:02d}-{val_f1_macro:.2f}\"), \n",
    "                               EarlyStopping(monitor=\"train_loss\", min_delta=0.01, patience=3, mode=\"min\", verbose=True)], \n",
    "                    precision=\"16-mixed\", \n",
    "                    num_sanity_val_steps=0)\n",
    "trainer.fit(model, datamodule=data)\n",
    "trainer.test(model, datamodule=data)"
   ]
  },
  {
   "cell_type": "markdown",
   "metadata": {},
   "source": [
    "### No data augmentation"
   ]
  },
  {
   "cell_type": "code",
   "execution_count": 4,
   "metadata": {},
   "outputs": [
    {
     "name": "stderr",
     "output_type": "stream",
     "text": [
      "Using 16bit Automatic Mixed Precision (AMP)\n",
      "GPU available: True (cuda), used: True\n",
      "TPU available: False, using: 0 TPU cores\n",
      "HPU available: False, using: 0 HPUs\n",
      "LOCAL_RANK: 0 - CUDA_VISIBLE_DEVICES: [0]\n",
      "\n",
      "  | Name          | Type             | Params | Mode \n",
      "-----------------------------------------------------------\n",
      "0 | model         | MobileNetV3      | 4.2 M  | train\n",
      "1 | loss_fn       | CrossEntropyLoss | 0      | train\n",
      "2 | train_metrics | MetricCollection | 0      | train\n",
      "3 | val_metrics   | MetricCollection | 0      | train\n",
      "4 | test_metrics  | MetricCollection | 0      | train\n",
      "-----------------------------------------------------------\n",
      "4.2 M     Trainable params\n",
      "0         Non-trainable params\n",
      "4.2 M     Total params\n",
      "16.859    Total estimated model params size (MB)\n",
      "271       Modules in train mode\n",
      "0         Modules in eval mode\n"
     ]
    },
    {
     "name": "stdout",
     "output_type": "stream",
     "text": [
      "Epoch 0: 100%|██████████| 352/352 [00:28<00:00, 12.24it/s, v_num=7044]"
     ]
    },
    {
     "name": "stderr",
     "output_type": "stream",
     "text": [
      "Metric train_loss improved. New best score: 1.282\n"
     ]
    },
    {
     "name": "stdout",
     "output_type": "stream",
     "text": [
      "Epoch 1: 100%|██████████| 352/352 [00:11<00:00, 29.55it/s, v_num=7044]"
     ]
    },
    {
     "name": "stderr",
     "output_type": "stream",
     "text": [
      "Metric train_loss improved by 0.370 >= min_delta = 0.01. New best score: 0.913\n"
     ]
    },
    {
     "name": "stdout",
     "output_type": "stream",
     "text": [
      "Epoch 2: 100%|██████████| 352/352 [00:11<00:00, 29.55it/s, v_num=7044]"
     ]
    },
    {
     "name": "stderr",
     "output_type": "stream",
     "text": [
      "Metric train_loss improved by 0.128 >= min_delta = 0.01. New best score: 0.784\n"
     ]
    },
    {
     "name": "stdout",
     "output_type": "stream",
     "text": [
      "Epoch 3: 100%|██████████| 352/352 [00:11<00:00, 29.81it/s, v_num=7044]"
     ]
    },
    {
     "name": "stderr",
     "output_type": "stream",
     "text": [
      "Metric train_loss improved by 0.083 >= min_delta = 0.01. New best score: 0.702\n"
     ]
    },
    {
     "name": "stdout",
     "output_type": "stream",
     "text": [
      "Epoch 4: 100%|██████████| 352/352 [00:11<00:00, 29.57it/s, v_num=7044]"
     ]
    },
    {
     "name": "stderr",
     "output_type": "stream",
     "text": [
      "Metric train_loss improved by 0.062 >= min_delta = 0.01. New best score: 0.639\n"
     ]
    },
    {
     "name": "stdout",
     "output_type": "stream",
     "text": [
      "Epoch 5: 100%|██████████| 352/352 [00:11<00:00, 29.45it/s, v_num=7044]"
     ]
    },
    {
     "name": "stderr",
     "output_type": "stream",
     "text": [
      "Metric train_loss improved by 0.057 >= min_delta = 0.01. New best score: 0.582\n"
     ]
    },
    {
     "name": "stdout",
     "output_type": "stream",
     "text": [
      "Epoch 6: 100%|██████████| 352/352 [00:12<00:00, 28.65it/s, v_num=7044]"
     ]
    },
    {
     "name": "stderr",
     "output_type": "stream",
     "text": [
      "Metric train_loss improved by 0.045 >= min_delta = 0.01. New best score: 0.538\n"
     ]
    },
    {
     "name": "stdout",
     "output_type": "stream",
     "text": [
      "Epoch 7: 100%|██████████| 352/352 [00:11<00:00, 29.69it/s, v_num=7044]"
     ]
    },
    {
     "name": "stderr",
     "output_type": "stream",
     "text": [
      "Metric train_loss improved by 0.042 >= min_delta = 0.01. New best score: 0.496\n"
     ]
    },
    {
     "name": "stdout",
     "output_type": "stream",
     "text": [
      "Epoch 8: 100%|██████████| 352/352 [00:11<00:00, 29.46it/s, v_num=7044]"
     ]
    },
    {
     "name": "stderr",
     "output_type": "stream",
     "text": [
      "Metric train_loss improved by 0.038 >= min_delta = 0.01. New best score: 0.458\n"
     ]
    },
    {
     "name": "stdout",
     "output_type": "stream",
     "text": [
      "Epoch 9: 100%|██████████| 352/352 [00:11<00:00, 29.65it/s, v_num=7044]"
     ]
    },
    {
     "name": "stderr",
     "output_type": "stream",
     "text": [
      "Metric train_loss improved by 0.026 >= min_delta = 0.01. New best score: 0.431\n"
     ]
    },
    {
     "name": "stdout",
     "output_type": "stream",
     "text": [
      "Epoch 10: 100%|██████████| 352/352 [00:12<00:00, 29.12it/s, v_num=7044]"
     ]
    },
    {
     "name": "stderr",
     "output_type": "stream",
     "text": [
      "Metric train_loss improved by 0.032 >= min_delta = 0.01. New best score: 0.399\n"
     ]
    },
    {
     "name": "stdout",
     "output_type": "stream",
     "text": [
      "Epoch 11: 100%|██████████| 352/352 [00:11<00:00, 29.63it/s, v_num=7044]"
     ]
    },
    {
     "name": "stderr",
     "output_type": "stream",
     "text": [
      "Metric train_loss improved by 0.017 >= min_delta = 0.01. New best score: 0.383\n"
     ]
    },
    {
     "name": "stdout",
     "output_type": "stream",
     "text": [
      "Epoch 12: 100%|██████████| 352/352 [00:11<00:00, 29.62it/s, v_num=7044]"
     ]
    },
    {
     "name": "stderr",
     "output_type": "stream",
     "text": [
      "Metric train_loss improved by 0.019 >= min_delta = 0.01. New best score: 0.363\n"
     ]
    },
    {
     "name": "stdout",
     "output_type": "stream",
     "text": [
      "Epoch 14: 100%|██████████| 352/352 [00:11<00:00, 29.39it/s, v_num=7044]"
     ]
    },
    {
     "name": "stderr",
     "output_type": "stream",
     "text": [
      "Metric train_loss improved by 0.032 >= min_delta = 0.01. New best score: 0.332\n"
     ]
    },
    {
     "name": "stdout",
     "output_type": "stream",
     "text": [
      "Epoch 16: 100%|██████████| 352/352 [00:11<00:00, 29.64it/s, v_num=7044]"
     ]
    },
    {
     "name": "stderr",
     "output_type": "stream",
     "text": [
      "Metric train_loss improved by 0.020 >= min_delta = 0.01. New best score: 0.311\n"
     ]
    },
    {
     "name": "stdout",
     "output_type": "stream",
     "text": [
      "Epoch 18: 100%|██████████| 352/352 [00:11<00:00, 29.46it/s, v_num=7044]"
     ]
    },
    {
     "name": "stderr",
     "output_type": "stream",
     "text": [
      "Metric train_loss improved by 0.019 >= min_delta = 0.01. New best score: 0.292\n"
     ]
    },
    {
     "name": "stdout",
     "output_type": "stream",
     "text": [
      "Epoch 20: 100%|██████████| 352/352 [00:11<00:00, 29.71it/s, v_num=7044]"
     ]
    },
    {
     "name": "stderr",
     "output_type": "stream",
     "text": [
      "Metric train_loss improved by 0.011 >= min_delta = 0.01. New best score: 0.282\n"
     ]
    },
    {
     "name": "stdout",
     "output_type": "stream",
     "text": [
      "Epoch 23: 100%|██████████| 352/352 [00:11<00:00, 29.74it/s, v_num=7044]"
     ]
    },
    {
     "name": "stderr",
     "output_type": "stream",
     "text": [
      "Metric train_loss improved by 0.015 >= min_delta = 0.01. New best score: 0.267\n"
     ]
    },
    {
     "name": "stdout",
     "output_type": "stream",
     "text": [
      "Epoch 26: 100%|██████████| 352/352 [00:11<00:00, 29.61it/s, v_num=7044]"
     ]
    },
    {
     "name": "stderr",
     "output_type": "stream",
     "text": [
      "Monitored metric train_loss did not improve in the last 3 records. Best score: 0.267. Signaling Trainer to stop.\n"
     ]
    },
    {
     "name": "stdout",
     "output_type": "stream",
     "text": [
      "Epoch 26: 100%|██████████| 352/352 [00:11<00:00, 29.50it/s, v_num=7044]\n"
     ]
    },
    {
     "name": "stderr",
     "output_type": "stream",
     "text": [
      "LOCAL_RANK: 0 - CUDA_VISIBLE_DEVICES: [0]\n"
     ]
    },
    {
     "name": "stdout",
     "output_type": "stream",
     "text": [
      "Testing DataLoader 0: 100%|██████████| 352/352 [00:03<00:00, 88.71it/s]\n",
      "────────────────────────────────────────────────────────────────────────────────────────────────────────────────────────\n",
      "       Test metric             DataLoader 0\n",
      "────────────────────────────────────────────────────────────────────────────────────────────────────────────────────────\n",
      "       test_auroc           0.9404104351997375\n",
      "      test_f1_macro         0.6755831837654114\n",
      "     test_precision         0.6842420697212219\n",
      "       test_recall          0.6728554964065552\n",
      "────────────────────────────────────────────────────────────────────────────────────────────────────────────────────────\n"
     ]
    },
    {
     "data": {
      "text/plain": [
       "[{'test_auroc': 0.9404104351997375,\n",
       "  'test_f1_macro': 0.6755831837654114,\n",
       "  'test_precision': 0.6842420697212219,\n",
       "  'test_recall': 0.6728554964065552}]"
      ]
     },
     "execution_count": 4,
     "metadata": {},
     "output_type": "execute_result"
    }
   ],
   "source": [
    "bs = 256\n",
    "model = PretrainedModelMobileNet(batch_size=bs)\n",
    "data = ClassificationData(batch_size=bs, transform=no_augmentation)\n",
    "logger = MLFlowLogger(experiment_name=\"MobileNetV3-no-augmentation\", save_dir=\"mlruns\")\n",
    "trainer = L.Trainer(max_epochs=50, \n",
    "                    logger=logger, \n",
    "                    callbacks=[ModelCheckpoint(monitor=\"val_f1_macro\", mode=\"max\", dirpath=\"checkpoints/mobile_net\", filename=f\"no-augmentation_bs_{bs}\" + \"-{epoch:02d}-{val_f1_macro:.2f}\"), \n",
    "                               EarlyStopping(monitor=\"train_loss\", min_delta=0.01, patience=3, mode=\"min\", verbose=True)], \n",
    "                    precision=\"16-mixed\", \n",
    "                    num_sanity_val_steps=0)\n",
    "trainer.fit(model, datamodule=data)\n",
    "trainer.test(model, datamodule=data)"
   ]
  },
  {
   "cell_type": "code",
   "execution_count": null,
   "metadata": {},
   "outputs": [],
   "source": []
  }
 ],
 "metadata": {
  "kernelspec": {
   "display_name": ".venv",
   "language": "python",
   "name": "python3"
  },
  "language_info": {
   "codemirror_mode": {
    "name": "ipython",
    "version": 3
   },
   "file_extension": ".py",
   "mimetype": "text/x-python",
   "name": "python",
   "nbconvert_exporter": "python",
   "pygments_lexer": "ipython3",
   "version": "3.12.9"
  }
 },
 "nbformat": 4,
 "nbformat_minor": 2
}
