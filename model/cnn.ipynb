{
 "cells": [
  {
   "cell_type": "code",
   "execution_count": 2,
   "metadata": {},
   "outputs": [
    {
     "data": {
      "text/plain": [
       "device(type='cuda')"
      ]
     },
     "execution_count": 2,
     "metadata": {},
     "output_type": "execute_result"
    }
   ],
   "source": [
    "import torch\n",
    "import sys\n",
    "import os\n",
    "\n",
    "# Get the absolute path of the project root\n",
    "project_root = os.path.abspath(os.path.join(os.getcwd(), \"..\"))\n",
    "\n",
    "# Add to sys.path if not already there\n",
    "if project_root not in sys.path:\n",
    "    sys.path.append(project_root)\n",
    "\n",
    "from model_utils import BasicCNN\n",
    "from data_prep.data_utils import ClassificationDataset, default_transforms\n",
    "\n",
    "torch.device(\"cuda\" if torch.cuda.is_available() else \"cpu\")"
   ]
  },
  {
   "cell_type": "code",
   "execution_count": 3,
   "metadata": {},
   "outputs": [
    {
     "name": "stdout",
     "output_type": "stream",
     "text": [
      "[1,  2000] loss: 1.701\n",
      "[2,  2000] loss: 1.507\n",
      "[3,  2000] loss: 1.438\n",
      "[4,  2000] loss: 1.394\n",
      "[5,  2000] loss: 1.359\n",
      "[6,  2000] loss: 1.346\n",
      "[7,  2000] loss: 1.327\n",
      "[8,  2000] loss: 1.307\n",
      "[9,  2000] loss: 1.293\n",
      "[10,  2000] loss: 1.279\n"
     ]
    }
   ],
   "source": [
    "model = BasicCNN()\n",
    "train_data = ClassificationDataset('../data/train', transform=default_transforms)\n",
    "val_data = ClassificationDataset('../data/valid', transform=default_transforms)\n",
    "model.fit(train_loader=train_data.get_dataloader(), epochs=10)"
   ]
  },
  {
   "cell_type": "code",
   "execution_count": null,
   "metadata": {},
   "outputs": [],
   "source": [
    "test_data = ClassificationDataset('../data/test', transform=default_transforms)\n",
    "correct_pred, total_pred = model.evaluate(test_data.get_dataloader())"
   ]
  },
  {
   "cell_type": "code",
   "execution_count": null,
   "metadata": {},
   "outputs": [],
   "source": []
  }
 ],
 "metadata": {
  "kernelspec": {
   "display_name": ".venv",
   "language": "python",
   "name": "python3"
  },
  "language_info": {
   "codemirror_mode": {
    "name": "ipython",
    "version": 3
   },
   "file_extension": ".py",
   "mimetype": "text/x-python",
   "name": "python",
   "nbconvert_exporter": "python",
   "pygments_lexer": "ipython3",
   "version": "3.12.9"
  }
 },
 "nbformat": 4,
 "nbformat_minor": 2
}
