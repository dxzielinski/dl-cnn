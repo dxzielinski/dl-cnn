{
 "cells": [
  {
   "cell_type": "code",
   "execution_count": 2,
   "metadata": {},
   "outputs": [
    {
     "data": {
      "text/plain": [
       "device(type='cuda')"
      ]
     },
     "execution_count": 2,
     "metadata": {},
     "output_type": "execute_result"
    }
   ],
   "source": [
    "import torch\n",
    "import sys\n",
    "import os\n",
    "\n",
    "# Get the absolute path of the project root\n",
    "project_root = os.path.abspath(os.path.join(os.getcwd(), \"..\"))\n",
    "\n",
    "# Add to sys.path if not already there\n",
    "if project_root not in sys.path:\n",
    "    sys.path.append(project_root)\n",
    "\n",
    "from model_utils import BasicCNN\n",
    "from data_prep.data_utils import ClassificationDataset, default_transforms\n",
    "\n",
    "torch.device(\"cuda\" if torch.cuda.is_available() else \"cpu\")"
   ]
  },
  {
   "cell_type": "code",
   "execution_count": null,
   "metadata": {},
   "outputs": [
    {
     "name": "stdout",
     "output_type": "stream",
     "text": [
      "[1,  2000] loss: 1.696\n",
      "[2,  2000] loss: 1.503\n",
      "[3,  2000] loss: 1.440\n",
      "[4,  2000] loss: 1.402\n",
      "[5,  2000] loss: 1.367\n",
      "[6,  2000] loss: 1.339\n",
      "[7,  2000] loss: 1.319\n",
      "[8,  2000] loss: 1.301\n",
      "[9,  2000] loss: 1.288\n",
      "[10,  2000] loss: 1.274\n"
     ]
    }
   ],
   "source": [
    "model = BasicCNN()\n",
    "train_data = ClassificationDataset('../data/train', transform=default_transforms)\n",
    "val_data = ClassificationDataset('../data/valid', transform=default_transforms)\n",
    "model.fit(train_dataset=train_data, epochs=100)"
   ]
  },
  {
   "cell_type": "code",
   "execution_count": 4,
   "metadata": {},
   "outputs": [],
   "source": [
    "test_data = ClassificationDataset('../data/test', transform=default_transforms)\n",
    "correct_pred, total_pred = model.evaluate(test_data)"
   ]
  },
  {
   "cell_type": "code",
   "execution_count": 5,
   "metadata": {},
   "outputs": [
    {
     "name": "stdout",
     "output_type": "stream",
     "text": [
      "Accuracy for class airplane is 0.7084444444444444\n",
      "Accuracy for class automobile is 0.505\n",
      "Accuracy for class bird is 0.4552222222222222\n",
      "Accuracy for class cat is 0.34944444444444445\n",
      "Accuracy for class deer is 0.5195555555555555\n",
      "Accuracy for class dog is 0.3158888888888889\n",
      "Accuracy for class frog is 0.8056666666666666\n",
      "Accuracy for class horse is 0.5861111111111111\n",
      "Accuracy for class ship is 0.5785555555555556\n",
      "Accuracy for class truck is 0.5398888888888889\n"
     ]
    }
   ],
   "source": [
    "for class_name, correct_count in correct_pred.items():\n",
    "    total_count = total_pred[class_name]\n",
    "    print(f'Accuracy for class {class_name} is {correct_count/total_count}')"
   ]
  },
  {
   "cell_type": "code",
   "execution_count": null,
   "metadata": {},
   "outputs": [],
   "source": []
  }
 ],
 "metadata": {
  "kernelspec": {
   "display_name": ".venv",
   "language": "python",
   "name": "python3"
  },
  "language_info": {
   "codemirror_mode": {
    "name": "ipython",
    "version": 3
   },
   "file_extension": ".py",
   "mimetype": "text/x-python",
   "name": "python",
   "nbconvert_exporter": "python",
   "pygments_lexer": "ipython3",
   "version": "3.12.9"
  }
 },
 "nbformat": 4,
 "nbformat_minor": 2
}
